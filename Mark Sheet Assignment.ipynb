{
 "cells": [
  {
   "cell_type": "code",
   "execution_count": 5,
   "metadata": {},
   "outputs": [
    {
     "name": "stdout",
     "output_type": "stream",
     "text": [
      "Enter obtain marks for Math's :40\n",
      "Enter obtain marks for Englis :40\n",
      "Enter obtain marks for Urdu :40\n",
      "Enter obtain marks for Physics :40\n",
      "Enter obtain marks for Islamiat :40\n",
      "Your obtained marks are :  200  And Percentage : 40.0 %.\n",
      "You are failed, with grade F\n"
     ]
    }
   ],
   "source": [
    "sub1 = int(input(\"Enter obtain marks for Math's :\"))\n",
    "sub2 = int(input(\"Enter obtain marks for Englis :\"))\n",
    "sub3 = int(input(\"Enter obtain marks for Urdu :\"))\n",
    "sub4 = int(input(\"Enter obtain marks for Physics :\"))\n",
    "sub5 = int(input(\"Enter obtain marks for Islamiat :\"))\n",
    "if sub1 <= 100 and sub2 <= 100 and sub3 <= 100 and sub4 <= 100 and sub5 <= 100 :\n",
    "    total = 500\n",
    "    total_sub = sub1 + sub2 + sub3 + sub4 + sub5\n",
    "    percentage = total_sub / total * 100\n",
    "    print(\"Your obtained marks are : \",total_sub,\" And Percentage :\",percentage,\"%.\")\n",
    "    if percentage >= 80 :\n",
    "          print(\"Your grade is A\")\n",
    "    elif percentage >=70 :\n",
    "          print(\"Your grade is B\")\n",
    "    elif percentage >= 60 :\n",
    "          print(\"Your grade is C\")\n",
    "    elif percentage >= 50 :\n",
    "          print(\"Your grade is D\")\n",
    "    else :\n",
    "          print(\"You are failed, with grade F\")\n",
    "else :\n",
    "          print(\"Error! You have put invalid data\")"
   ]
  },
  {
   "cell_type": "markdown",
   "metadata": {},
   "source": [
    "#### "
   ]
  }
 ],
 "metadata": {
  "kernelspec": {
   "display_name": "Python 3",
   "language": "python",
   "name": "python3"
  },
  "language_info": {
   "codemirror_mode": {
    "name": "ipython",
    "version": 3
   },
   "file_extension": ".py",
   "mimetype": "text/x-python",
   "name": "python",
   "nbconvert_exporter": "python",
   "pygments_lexer": "ipython3",
   "version": "3.7.3"
  }
 },
 "nbformat": 4,
 "nbformat_minor": 2
}
