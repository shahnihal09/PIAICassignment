{
 "cells": [
  {
   "cell_type": "code",
   "execution_count": 3,
   "metadata": {},
   "outputs": [],
   "source": [
    "daily_task= ['Awake','Brush','Prayer','Sehri','Sleep','Recite Quran','Class','Iftar','Traveh','Rest']\n",
    "# index no.     0      1        2       3      4        5              6       7       8       9"
   ]
  },
  {
   "cell_type": "code",
   "execution_count": 4,
   "metadata": {},
   "outputs": [],
   "source": [
    "task_ask = []"
   ]
  },
  {
   "cell_type": "code",
   "execution_count": 5,
   "metadata": {},
   "outputs": [
    {
     "name": "stdout",
     "output_type": "stream",
     "text": [
      "Enter the task here :brush\n",
      "Your task in List\n"
     ]
    }
   ],
   "source": [
    "task_ask = input(\"Enter the task here :\").title()\n",
    "if task_ask in daily_task:\n",
    "    task_ask = daily_task.pop() and daily_task.append(task_ask)\n",
    "    print(\"Your task in List\")\n",
    "else:\n",
    "    print(\"Your task is not in list\")"
   ]
  },
  {
   "cell_type": "code",
   "execution_count": 6,
   "metadata": {},
   "outputs": [
    {
     "name": "stdout",
     "output_type": "stream",
     "text": [
      "Enter the task here :game\n",
      "Your task is not in list\n"
     ]
    }
   ],
   "source": [
    "task_ask = input(\"Enter the task here :\").title()\n",
    "if task_ask in daily_task:\n",
    "    task_ask = daily_task.pop(0) and daily_task.append(task_ask)\n",
    "    print(\"Your task in List\")\n",
    "else:\n",
    "    print(\"Your task is not in list\")"
   ]
  },
  {
   "cell_type": "code",
   "execution_count": 7,
   "metadata": {},
   "outputs": [
    {
     "name": "stdout",
     "output_type": "stream",
     "text": [
      "Enter the task here :awake\n",
      "Your task in List\n"
     ]
    }
   ],
   "source": [
    "task_ask = input(\"Enter the task here :\").title()\n",
    "if task_ask in daily_task:\n",
    "    task_ask = daily_task.pop() and daily_task.append(task_ask)\n",
    "    print(\"Your task in List\")\n",
    "else:\n",
    "    print(\"Your task is not in list\")"
   ]
  },
  {
   "cell_type": "code",
   "execution_count": 8,
   "metadata": {},
   "outputs": [],
   "source": [
    "task_ask"
   ]
  },
  {
   "cell_type": "code",
   "execution_count": 23,
   "metadata": {},
   "outputs": [
    {
     "ename": "IndentationError",
     "evalue": "unexpected indent (<ipython-input-23-ba02da1ee4ae>, line 3)",
     "output_type": "error",
     "traceback": [
      "\u001b[1;36m  File \u001b[1;32m\"<ipython-input-23-ba02da1ee4ae>\"\u001b[1;36m, line \u001b[1;32m3\u001b[0m\n\u001b[1;33m    task_ask = daily_task.pop() and task_ask.append(task_ask)\u001b[0m\n\u001b[1;37m    ^\u001b[0m\n\u001b[1;31mIndentationError\u001b[0m\u001b[1;31m:\u001b[0m unexpected indent\n"
     ]
    }
   ],
   "source": [
    "task_ask = input(\"Enter the task here :\").title()\n",
    "if task_ask in daily_task:brus\n",
    "    task_ask = daily_task.pop() and task_ask.append(task_ask)\n",
    "    print(\"Your task in List\")\n",
    "else:\n",
    "    print(\"Your task is not in list\")"
   ]
  },
  {
   "cell_type": "code",
   "execution_count": 24,
   "metadata": {},
   "outputs": [
    {
     "name": "stdout",
     "output_type": "stream",
     "text": [
      "Brush\n"
     ]
    }
   ],
   "source": [
    "print(task_ask)"
   ]
  },
  {
   "cell_type": "code",
   "execution_count": 11,
   "metadata": {},
   "outputs": [
    {
     "data": {
      "text/plain": [
       "['Awake',\n",
       " 'Brush',\n",
       " 'Prayer',\n",
       " 'Sehri',\n",
       " 'Sleep',\n",
       " 'Recite Quran',\n",
       " 'Class',\n",
       " 'Iftar',\n",
       " 'Traveh']"
      ]
     },
     "execution_count": 11,
     "metadata": {},
     "output_type": "execute_result"
    }
   ],
   "source": [
    "daily_task"
   ]
  },
  {
   "cell_type": "markdown",
   "metadata": {},
   "source": [
    "# To do list"
   ]
  },
  {
   "cell_type": "code",
   "execution_count": 30,
   "metadata": {},
   "outputs": [],
   "source": [
    "daily_task= ['Awake','Brush','Prayer','Sehri','Sleep','Recite Quran','Class','Iftar','Traveh','Rest']\n",
    "# index no.     0      1        2       3      4        5              6       7       8       9"
   ]
  },
  {
   "cell_type": "code",
   "execution_count": 31,
   "metadata": {},
   "outputs": [
    {
     "data": {
      "text/plain": [
       "[]"
      ]
     },
     "execution_count": 31,
     "metadata": {},
     "output_type": "execute_result"
    }
   ],
   "source": [
    "task_done = []\n",
    "task_done"
   ]
  },
  {
   "cell_type": "code",
   "execution_count": 32,
   "metadata": {},
   "outputs": [
    {
     "name": "stdout",
     "output_type": "stream",
     "text": [
      "['Awake', 'Brush', 'Prayer', 'Sehri', 'Sleep', 'Recite Quran', 'Class', 'Iftar', 'Traveh', 'Rest']\n"
     ]
    }
   ],
   "source": [
    "print(daily_task)"
   ]
  },
  {
   "cell_type": "code",
   "execution_count": 33,
   "metadata": {},
   "outputs": [
    {
     "name": "stdout",
     "output_type": "stream",
     "text": [
      "Enter task you have done:brush\n",
      "['Awake', 'Prayer', 'Sehri', 'Sleep', 'Recite Quran', 'Class', 'Iftar', 'Traveh', 'Rest']\n",
      "Sorry! We do not have this task in our list\n"
     ]
    }
   ],
   "source": [
    "status = input(\"Enter task you have done:\").title()\n",
    "if status in daily_task:\n",
    "    value = daily_task.index(status)\n",
    "    status = daily_task.pop(value)\n",
    "task_done.append(status)\n",
    "print(daily_task)\n",
    "if len(daily_task) == 0 :\n",
    "    print(\"You have done all tasks..Good Work\")\n",
    "else:\n",
    "    print(\"Sorry! We do not have this task in our list\")"
   ]
  },
  {
   "cell_type": "code",
   "execution_count": 34,
   "metadata": {},
   "outputs": [
    {
     "name": "stdout",
     "output_type": "stream",
     "text": [
      "Enter task you have done:awake\n",
      "['Prayer', 'Sehri', 'Sleep', 'Recite Quran', 'Class', 'Iftar', 'Traveh', 'Rest']\n",
      "Sorry! We do not have this task in our list\n"
     ]
    }
   ],
   "source": [
    "status = input(\"Enter task you have done:\").title()\n",
    "if status in daily_task:\n",
    "    value = daily_task.index(status)\n",
    "    status = daily_task.pop(value)\n",
    "task_done.append(status)\n",
    "print(daily_task)\n",
    "if len(daily_task) == 0 :\n",
    "    print(\"You have done all tasks..Good Work\")\n",
    "else:\n",
    "    print(\"Sorry! We do not have this task in our list\")"
   ]
  },
  {
   "cell_type": "code",
   "execution_count": 35,
   "metadata": {},
   "outputs": [
    {
     "name": "stdout",
     "output_type": "stream",
     "text": [
      "Enter task you have done:awake\n",
      "['Prayer', 'Sehri', 'Sleep', 'Recite Quran', 'Class', 'Iftar', 'Traveh', 'Rest']\n",
      "Sorry! We do not have this task in our list\n"
     ]
    }
   ],
   "source": [
    "status = input(\"Enter task you have done:\").title()\n",
    "if status in daily_task:\n",
    "    value = daily_task.index(status)\n",
    "    status = daily_task.pop(value)\n",
    "task_done.append(status)\n",
    "print(daily_task)\n",
    "if len(daily_task) == 0 :\n",
    "    print(\"You have done all tasks..Good Work\")\n",
    "else:\n",
    "    print(\"Sorry! We do not have this task in our list\")"
   ]
  },
  {
   "cell_type": "code",
   "execution_count": 36,
   "metadata": {},
   "outputs": [
    {
     "name": "stdout",
     "output_type": "stream",
     "text": [
      "Enter task you have done:sehri\n",
      "['Prayer', 'Sleep', 'Recite Quran', 'Class', 'Iftar', 'Traveh', 'Rest']\n",
      "Sorry! We do not have this task in our list\n"
     ]
    }
   ],
   "source": [
    "status = input(\"Enter task you have done:\").title()\n",
    "if status in daily_task:\n",
    "    value = daily_task.index(status)\n",
    "    status = daily_task.pop(value)\n",
    "task_done.append(status)\n",
    "print(daily_task)\n",
    "if len(daily_task) == 0 :\n",
    "    print(\"You have done all tasks..Good Work\")\n",
    "else:\n",
    "    print(\"Sorry! We do not have this task in our list\")"
   ]
  },
  {
   "cell_type": "code",
   "execution_count": 38,
   "metadata": {},
   "outputs": [
    {
     "name": "stdout",
     "output_type": "stream",
     "text": [
      "Enter task you have done:prayer\n",
      "['Sleep', 'Recite Quran', 'Class', 'Iftar', 'Traveh', 'Rest']\n",
      "Sorry! We do not have this task in our list\n"
     ]
    }
   ],
   "source": [
    "status = input(\"Enter task you have done:\").title()\n",
    "if status in daily_task:\n",
    "    value = daily_task.index(status)\n",
    "    status = daily_task.pop(value)\n",
    "task_done.append(status)\n",
    "print(daily_task)\n",
    "if len(daily_task) == 0 :\n",
    "    print(\"You have done all tasks..Good Work\")\n",
    "else:\n",
    "    print(\"Sorry! We do not have this task in our list\")"
   ]
  },
  {
   "cell_type": "code",
   "execution_count": 39,
   "metadata": {},
   "outputs": [
    {
     "name": "stdout",
     "output_type": "stream",
     "text": [
      "Enter task you have done:sleep\n",
      "['Recite Quran', 'Class', 'Iftar', 'Traveh', 'Rest']\n",
      "Sorry! We do not have this task in our list\n"
     ]
    }
   ],
   "source": [
    "status = input(\"Enter task you have done:\").title()\n",
    "if status in daily_task:\n",
    "    value = daily_task.index(status)\n",
    "    status = daily_task.pop(value)\n",
    "task_done.append(status)\n",
    "print(daily_task)\n",
    "if len(daily_task) == 0 :\n",
    "    print(\"You have done all tasks..Good Work\")\n",
    "else:\n",
    "    print(\"Sorry! We do not have this task in our list\")"
   ]
  },
  {
   "cell_type": "code",
   "execution_count": 40,
   "metadata": {},
   "outputs": [
    {
     "name": "stdout",
     "output_type": "stream",
     "text": [
      "Enter task you have done:recite quran\n",
      "['Class', 'Iftar', 'Traveh', 'Rest']\n",
      "Sorry! We do not have this task in our list\n"
     ]
    }
   ],
   "source": [
    "status = input(\"Enter task you have done:\").title()\n",
    "if status in daily_task:\n",
    "    value = daily_task.index(status)\n",
    "    status = daily_task.pop(value)\n",
    "task_done.append(status)\n",
    "print(daily_task)\n",
    "if len(daily_task) == 0 :\n",
    "    print(\"You have done all tasks..Good Work\")\n",
    "else:\n",
    "    print(\"Sorry! We do not have this task in our list\")"
   ]
  },
  {
   "cell_type": "code",
   "execution_count": 41,
   "metadata": {},
   "outputs": [
    {
     "name": "stdout",
     "output_type": "stream",
     "text": [
      "Enter task you have done:class\n",
      "['Iftar', 'Traveh', 'Rest']\n",
      "Sorry! We do not have this task in our list\n"
     ]
    }
   ],
   "source": [
    "status = input(\"Enter task you have done:\").title()\n",
    "if status in daily_task:\n",
    "    value = daily_task.index(status)\n",
    "    status = daily_task.pop(value)\n",
    "task_done.append(status)\n",
    "print(daily_task)\n",
    "if len(daily_task) == 0 :\n",
    "    print(\"You have done all tasks..Good Work\")\n",
    "else:\n",
    "    print(\"Sorry! We do not have this task in our list\")"
   ]
  },
  {
   "cell_type": "code",
   "execution_count": 42,
   "metadata": {},
   "outputs": [
    {
     "name": "stdout",
     "output_type": "stream",
     "text": [
      "Enter task you have done:iftar\n",
      "['Traveh', 'Rest']\n",
      "Sorry! We do not have this task in our list\n"
     ]
    }
   ],
   "source": [
    "status = input(\"Enter task you have done:\").title()\n",
    "if status in daily_task:\n",
    "    value = daily_task.index(status)\n",
    "    status = daily_task.pop(value)\n",
    "task_done.append(status)\n",
    "print(daily_task)\n",
    "if len(daily_task) == 0 :\n",
    "    print(\"You have done all tasks..Good Work\")\n",
    "else:\n",
    "    print(\"Sorry! We do not have this task in our list\")"
   ]
  },
  {
   "cell_type": "code",
   "execution_count": 43,
   "metadata": {},
   "outputs": [
    {
     "name": "stdout",
     "output_type": "stream",
     "text": [
      "Enter task you have done:traveh\n",
      "['Rest']\n",
      "Sorry! We do not have this task in our list\n"
     ]
    }
   ],
   "source": [
    "status = input(\"Enter task you have done:\").title()\n",
    "if status in daily_task:\n",
    "    value = daily_task.index(status)\n",
    "    status = daily_task.pop(value)\n",
    "task_done.append(status)\n",
    "print(daily_task)\n",
    "if len(daily_task) == 0 :\n",
    "    print(\"You have done all tasks..Good Work\")\n",
    "else:\n",
    "    print(\"Sorry! We do not have this task in our list\")"
   ]
  },
  {
   "cell_type": "code",
   "execution_count": 44,
   "metadata": {},
   "outputs": [
    {
     "name": "stdout",
     "output_type": "stream",
     "text": [
      "Enter task you have done:Rest\n",
      "[]\n",
      "You have done all tasks..Good Work\n"
     ]
    }
   ],
   "source": [
    "status = input(\"Enter task you have done:\").title()\n",
    "if status in daily_task:\n",
    "    value = daily_task.index(status)\n",
    "    status = daily_task.pop(value)\n",
    "task_done.append(status)\n",
    "print(daily_task)\n",
    "if len(daily_task) == 0 :\n",
    "    print(\"You have done all tasks..Good Work\")\n",
    "else:\n",
    "    print(\"Sorry! We do not have this task in our list\")"
   ]
  },
  {
   "cell_type": "code",
   "execution_count": null,
   "metadata": {},
   "outputs": [],
   "source": []
  }
 ],
 "metadata": {
  "kernelspec": {
   "display_name": "Python 3",
   "language": "python",
   "name": "python3"
  },
  "language_info": {
   "codemirror_mode": {
    "name": "ipython",
    "version": 3
   },
   "file_extension": ".py",
   "mimetype": "text/x-python",
   "name": "python",
   "nbconvert_exporter": "python",
   "pygments_lexer": "ipython3",
   "version": "3.7.3"
  }
 },
 "nbformat": 4,
 "nbformat_minor": 2
}
